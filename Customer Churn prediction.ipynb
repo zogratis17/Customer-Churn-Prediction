{
 "cells": [
  {
   "cell_type": "code",
   "execution_count": 50,
   "id": "d744ec1a",
   "metadata": {},
   "outputs": [],
   "source": [
    "import pandas as pd\n",
    "from sklearn.model_selection import train_test_split\n",
    "from sklearn.preprocessing import LabelEncoder, StandardScaler\n",
    "from sklearn.linear_model import LogisticRegression\n",
    "from sklearn.ensemble import RandomForestClassifier, GradientBoostingClassifier\n",
    "from sklearn.metrics import classification_report, confusion_matrix, accuracy_score\n"
   ]
  },
  {
   "cell_type": "code",
   "execution_count": 51,
   "id": "efd34d43",
   "metadata": {},
   "outputs": [
    {
     "name": "stdout",
     "output_type": "stream",
     "text": [
      "<class 'pandas.core.frame.DataFrame'>\n",
      "RangeIndex: 10000 entries, 0 to 9999\n",
      "Data columns (total 14 columns):\n",
      " #   Column           Non-Null Count  Dtype  \n",
      "---  ------           --------------  -----  \n",
      " 0   RowNumber        10000 non-null  int64  \n",
      " 1   CustomerId       10000 non-null  int64  \n",
      " 2   Surname          10000 non-null  object \n",
      " 3   CreditScore      10000 non-null  int64  \n",
      " 4   Geography        10000 non-null  object \n",
      " 5   Gender           10000 non-null  object \n",
      " 6   Age              10000 non-null  int64  \n",
      " 7   Tenure           10000 non-null  int64  \n",
      " 8   Balance          10000 non-null  float64\n",
      " 9   NumOfProducts    10000 non-null  int64  \n",
      " 10  HasCrCard        10000 non-null  int64  \n",
      " 11  IsActiveMember   10000 non-null  int64  \n",
      " 12  EstimatedSalary  10000 non-null  float64\n",
      " 13  Exited           10000 non-null  int64  \n",
      "dtypes: float64(2), int64(9), object(3)\n",
      "memory usage: 1.1+ MB\n"
     ]
    }
   ],
   "source": [
    "df = pd.read_csv('Churn_Modelling.csv')\n",
    "df.info()"
   ]
  },
  {
   "cell_type": "code",
   "execution_count": 65,
   "id": "76d19b81",
   "metadata": {},
   "outputs": [
    {
     "data": {
      "text/html": [
       "<div>\n",
       "<style scoped>\n",
       "    .dataframe tbody tr th:only-of-type {\n",
       "        vertical-align: middle;\n",
       "    }\n",
       "\n",
       "    .dataframe tbody tr th {\n",
       "        vertical-align: top;\n",
       "    }\n",
       "\n",
       "    .dataframe thead th {\n",
       "        text-align: right;\n",
       "    }\n",
       "</style>\n",
       "<table border=\"1\" class=\"dataframe\">\n",
       "  <thead>\n",
       "    <tr style=\"text-align: right;\">\n",
       "      <th></th>\n",
       "      <th>CreditScore</th>\n",
       "      <th>Geography</th>\n",
       "      <th>Gender</th>\n",
       "      <th>Age</th>\n",
       "      <th>Tenure</th>\n",
       "      <th>Balance</th>\n",
       "      <th>NumOfProducts</th>\n",
       "      <th>HasCrCard</th>\n",
       "      <th>IsActiveMember</th>\n",
       "      <th>EstimatedSalary</th>\n",
       "      <th>Exited</th>\n",
       "    </tr>\n",
       "  </thead>\n",
       "  <tbody>\n",
       "    <tr>\n",
       "      <th>0</th>\n",
       "      <td>619</td>\n",
       "      <td>0</td>\n",
       "      <td>0</td>\n",
       "      <td>42</td>\n",
       "      <td>2</td>\n",
       "      <td>0.00</td>\n",
       "      <td>1</td>\n",
       "      <td>1</td>\n",
       "      <td>1</td>\n",
       "      <td>101348.88</td>\n",
       "      <td>1</td>\n",
       "    </tr>\n",
       "    <tr>\n",
       "      <th>1</th>\n",
       "      <td>608</td>\n",
       "      <td>2</td>\n",
       "      <td>0</td>\n",
       "      <td>41</td>\n",
       "      <td>1</td>\n",
       "      <td>83807.86</td>\n",
       "      <td>1</td>\n",
       "      <td>0</td>\n",
       "      <td>1</td>\n",
       "      <td>112542.58</td>\n",
       "      <td>0</td>\n",
       "    </tr>\n",
       "    <tr>\n",
       "      <th>2</th>\n",
       "      <td>502</td>\n",
       "      <td>0</td>\n",
       "      <td>0</td>\n",
       "      <td>42</td>\n",
       "      <td>8</td>\n",
       "      <td>159660.80</td>\n",
       "      <td>3</td>\n",
       "      <td>1</td>\n",
       "      <td>0</td>\n",
       "      <td>113931.57</td>\n",
       "      <td>1</td>\n",
       "    </tr>\n",
       "    <tr>\n",
       "      <th>3</th>\n",
       "      <td>699</td>\n",
       "      <td>0</td>\n",
       "      <td>0</td>\n",
       "      <td>39</td>\n",
       "      <td>1</td>\n",
       "      <td>0.00</td>\n",
       "      <td>2</td>\n",
       "      <td>0</td>\n",
       "      <td>0</td>\n",
       "      <td>93826.63</td>\n",
       "      <td>0</td>\n",
       "    </tr>\n",
       "    <tr>\n",
       "      <th>4</th>\n",
       "      <td>850</td>\n",
       "      <td>2</td>\n",
       "      <td>0</td>\n",
       "      <td>43</td>\n",
       "      <td>2</td>\n",
       "      <td>125510.82</td>\n",
       "      <td>1</td>\n",
       "      <td>1</td>\n",
       "      <td>1</td>\n",
       "      <td>79084.10</td>\n",
       "      <td>0</td>\n",
       "    </tr>\n",
       "  </tbody>\n",
       "</table>\n",
       "</div>"
      ],
      "text/plain": [
       "   CreditScore  Geography  Gender  Age  Tenure    Balance  NumOfProducts  \\\n",
       "0          619          0       0   42       2       0.00              1   \n",
       "1          608          2       0   41       1   83807.86              1   \n",
       "2          502          0       0   42       8  159660.80              3   \n",
       "3          699          0       0   39       1       0.00              2   \n",
       "4          850          2       0   43       2  125510.82              1   \n",
       "\n",
       "   HasCrCard  IsActiveMember  EstimatedSalary  Exited  \n",
       "0          1               1        101348.88       1  \n",
       "1          0               1        112542.58       0  \n",
       "2          1               0        113931.57       1  \n",
       "3          0               0         93826.63       0  \n",
       "4          1               1         79084.10       0  "
      ]
     },
     "execution_count": 65,
     "metadata": {},
     "output_type": "execute_result"
    }
   ],
   "source": [
    "df.head(5)"
   ]
  },
  {
   "cell_type": "code",
   "execution_count": 52,
   "id": "e3d3aa0d",
   "metadata": {},
   "outputs": [],
   "source": [
    "df = df.drop(columns=['RowNumber', 'CustomerId', 'Surname'])\n"
   ]
  },
  {
   "cell_type": "code",
   "execution_count": 53,
   "id": "92a0eb31",
   "metadata": {},
   "outputs": [],
   "source": [
    "le_gender = LabelEncoder()\n",
    "le_geo = LabelEncoder()\n",
    "\n",
    "df['Gender'] = le_gender.fit_transform(df['Gender'])       # Male=1, Female=0\n",
    "df['Geography'] = le_geo.fit_transform(df['Geography'])    # France=0, Germany=1, Spain=2"
   ]
  },
  {
   "cell_type": "code",
   "execution_count": 54,
   "id": "25f5429b",
   "metadata": {},
   "outputs": [
    {
     "data": {
      "text/plain": [
       "0       0\n",
       "1       0\n",
       "2       0\n",
       "3       0\n",
       "4       0\n",
       "       ..\n",
       "9995    1\n",
       "9996    1\n",
       "9997    0\n",
       "9998    1\n",
       "9999    0\n",
       "Name: Gender, Length: 10000, dtype: int64"
      ]
     },
     "execution_count": 54,
     "metadata": {},
     "output_type": "execute_result"
    }
   ],
   "source": [
    "df['Gender'] "
   ]
  },
  {
   "cell_type": "code",
   "execution_count": 55,
   "id": "5f516388",
   "metadata": {},
   "outputs": [
    {
     "data": {
      "text/plain": [
       "0       0\n",
       "1       2\n",
       "2       0\n",
       "3       0\n",
       "4       2\n",
       "       ..\n",
       "9995    0\n",
       "9996    0\n",
       "9997    0\n",
       "9998    1\n",
       "9999    0\n",
       "Name: Geography, Length: 10000, dtype: int64"
      ]
     },
     "execution_count": 55,
     "metadata": {},
     "output_type": "execute_result"
    }
   ],
   "source": [
    "df['Geography'] "
   ]
  },
  {
   "cell_type": "code",
   "execution_count": 56,
   "id": "4d015c14",
   "metadata": {},
   "outputs": [],
   "source": [
    "X = df.drop('Exited', axis=1)\n",
    "y = df['Exited']\n"
   ]
  },
  {
   "cell_type": "code",
   "execution_count": 57,
   "id": "f048f217",
   "metadata": {},
   "outputs": [],
   "source": [
    "scaler = StandardScaler()\n",
    "X_scaled = scaler.fit_transform(X)"
   ]
  },
  {
   "cell_type": "code",
   "execution_count": 58,
   "id": "909f3648",
   "metadata": {},
   "outputs": [],
   "source": [
    "X_train, X_test, y_train, y_test = train_test_split(X_scaled, y, test_size=0.2, random_state=42)\n"
   ]
  },
  {
   "cell_type": "code",
   "execution_count": 59,
   "id": "7cd704a0",
   "metadata": {},
   "outputs": [
    {
     "name": "stdout",
     "output_type": "stream",
     "text": [
      "Exited\n",
      "0    7963\n",
      "1    2037\n",
      "Name: count, dtype: int64\n",
      "Exited\n",
      "0    0.7963\n",
      "1    0.2037\n",
      "Name: proportion, dtype: float64\n"
     ]
    }
   ],
   "source": [
    "print(df['Exited'].value_counts())\n",
    "print(df['Exited'].value_counts(normalize=True))"
   ]
  },
  {
   "cell_type": "code",
   "execution_count": 60,
   "id": "15083880",
   "metadata": {},
   "outputs": [
    {
     "data": {
      "image/png": "[encoded data removed]",
      "text/plain": [
       "<Figure size 1500x500 with 2 Axes>"
      ]
     },
     "metadata": {},
     "output_type": "display_data"
    }
   ],
   "source": [
    "from imblearn.over_sampling import SMOTE\n",
    "import matplotlib.pyplot as plt\n",
    "sm = SMOTE()\n",
    "X_train_new, y_train_new = sm.fit_resample(X_train, y_train.to_numpy())\n",
    "\n",
    "\n",
    "fig, (ax1, ax2) = plt.subplots(ncols=2, figsize=(15, 5)) # Effect of SMOTE over imbalanced datasets\n",
    "\n",
    "ax1.set_title('Before SMOTE')\n",
    "pd.Series(y_train).value_counts().plot.bar(ax=ax1)\n",
    "\n",
    "ax2.set_title('After SMOTE')\n",
    "pd.Series(y_train_new).value_counts().plot.bar(ax=ax2)\n",
    "\n",
    "plt.tight_layout()\n",
    "plt.show()"
   ]
  },
  {
   "cell_type": "code",
   "execution_count": 61,
   "id": "fe9c67dd",
   "metadata": {},
   "outputs": [],
   "source": [
    "import warnings\n",
    "from sklearn.exceptions import ConvergenceWarning\n",
    "\n",
    "warnings.filterwarnings(\"ignore\", category=ConvergenceWarning)\n",
    "\n",
    "algorithms = [\n",
    "    (\"Random Forest\", RandomForestClassifier()),\n",
    "    (\"Logistic Regression\", LogisticRegression(max_iter=1000)),]\n",
    "\n",
    "results = {}\n"
   ]
  },
  {
   "cell_type": "code",
   "execution_count": 62,
   "id": "9ea4437a",
   "metadata": {},
   "outputs": [
    {
     "name": "stdout",
     "output_type": "stream",
     "text": [
      "\n",
      "=== Random Forest ===\n",
      "Accuracy: 0.8665\n",
      "Confusion Matrix:\n",
      "[[1559   48]\n",
      " [ 321   72]]\n",
      "Classification Report:\n",
      "              precision    recall  f1-score   support\n",
      "\n",
      "           0       0.83      0.97      0.89      1607\n",
      "           1       0.60      0.18      0.28       393\n",
      "\n",
      "    accuracy                           0.82      2000\n",
      "   macro avg       0.71      0.58      0.59      2000\n",
      "weighted avg       0.78      0.82      0.77      2000\n",
      "\n",
      "\n",
      "=== Logistic Regression ===\n",
      "Accuracy: 0.8155\n",
      "Confusion Matrix:\n",
      "[[1559   48]\n",
      " [ 321   72]]\n",
      "Classification Report:\n",
      "              precision    recall  f1-score   support\n",
      "\n",
      "           0       0.83      0.97      0.89      1607\n",
      "           1       0.60      0.18      0.28       393\n",
      "\n",
      "    accuracy                           0.82      2000\n",
      "   macro avg       0.71      0.58      0.59      2000\n",
      "weighted avg       0.78      0.82      0.77      2000\n",
      "\n"
     ]
    }
   ],
   "source": [
    "for algo_name, algo in algorithms:\n",
    "    algo.fit(X_train, y_train)\n",
    "    predictions = algo.predict(X_test)\n",
    "    # print(predictions[:10])\n",
    "    accuracy = accuracy_score(y_test, predictions)\n",
    "    results[algo_name] = accuracy\n",
    "\n",
    "for algo_name, accuracy in results.items():\n",
    "    print(f\"\\n=== {algo_name} ===\")\n",
    "    print(f\"Accuracy: {accuracy:.4f}\")\n",
    "    print(\"Confusion Matrix:\")\n",
    "    print(confusion_matrix(y_test, predictions))\n",
    "    print(\"Classification Report:\")\n",
    "    print(classification_report(y_test, predictions, zero_division=0))  "
   ]
  },
  {
   "cell_type": "code",
   "execution_count": 63,
   "id": "22ed1408",
   "metadata": {},
   "outputs": [
    {
     "name": "stdout",
     "output_type": "stream",
     "text": [
      "Accuracy: 0.8660\n",
      "Confusion Matrix:\n",
      "[[1547   60]\n",
      " [ 208  185]]\n",
      "Classification Report:\n",
      "              precision    recall  f1-score   support\n",
      "\n",
      "           0       0.88      0.96      0.92      1607\n",
      "           1       0.76      0.47      0.58       393\n",
      "\n",
      "    accuracy                           0.87      2000\n",
      "   macro avg       0.82      0.72      0.75      2000\n",
      "weighted avg       0.86      0.87      0.85      2000\n",
      "\n"
     ]
    }
   ],
   "source": [
    "gb_model = GradientBoostingClassifier(n_estimators=100, learning_rate=0.1, random_state=42)\n",
    "gb_model.fit(X_train, y_train)\n",
    "\n",
    "predictions = gb_model.predict(X_test)\n",
    "accuracy = accuracy_score(y_test, predictions)\n",
    "\n",
    "print(f\"Accuracy: {accuracy:.4f}\")\n",
    "print(\"Confusion Matrix:\")\n",
    "print(confusion_matrix(y_test, predictions))\n",
    "print(\"Classification Report:\")\n",
    "print(classification_report(y_test, predictions, zero_division=0))\n"
   ]
  },
  {
   "cell_type": "code",
   "execution_count": 64,
   "id": "1baec332",
   "metadata": {},
   "outputs": [
    {
     "name": "stdout",
     "output_type": "stream",
     "text": [
      "Sample 0: Predicted class label: ✅ Customer will STAY\n",
      "Sample 1: Predicted class label: ✅ Customer will STAY\n",
      "Sample 2: Predicted class label: ✅ Customer will STAY\n",
      "Sample 3: Predicted class label: ✅ Customer will STAY\n",
      "Sample 4: Predicted class label: ✅ Customer will STAY\n",
      "Sample 5: Predicted class label: ✅ Customer will STAY\n",
      "Sample 6: Predicted class label: ✅ Customer will STAY\n",
      "Sample 7: Predicted class label: ✅ Customer will STAY\n",
      "Sample 8: Predicted class label: ✅ Customer will STAY\n",
      "Sample 9: Predicted class label: ✅ Customer will STAY\n",
      "Sample 10: Predicted class label: ⚠️ Customer will CHURN\n",
      "Sample 11: Predicted class label: ⚠️ Customer will CHURN\n",
      "Sample 12: Predicted class label: ⚠️ Customer will CHURN\n",
      "Sample 13: Predicted class label: ✅ Customer will STAY\n",
      "Sample 14: Predicted class label: ✅ Customer will STAY\n",
      "Sample 15: Predicted class label: ✅ Customer will STAY\n",
      "Sample 16: Predicted class label: ✅ Customer will STAY\n",
      "Sample 17: Predicted class label: ✅ Customer will STAY\n",
      "Sample 18: Predicted class label: ✅ Customer will STAY\n",
      "Sample 19: Predicted class label: ✅ Customer will STAY\n",
      "Sample 20: Predicted class label: ✅ Customer will STAY\n",
      "Sample 21: Predicted class label: ✅ Customer will STAY\n",
      "Sample 22: Predicted class label: ✅ Customer will STAY\n",
      "Sample 23: Predicted class label: ✅ Customer will STAY\n",
      "Sample 24: Predicted class label: ✅ Customer will STAY\n",
      "Sample 25: Predicted class label: ✅ Customer will STAY\n",
      "Sample 26: Predicted class label: ✅ Customer will STAY\n",
      "Sample 27: Predicted class label: ✅ Customer will STAY\n",
      "Sample 28: Predicted class label: ✅ Customer will STAY\n",
      "Sample 29: Predicted class label: ✅ Customer will STAY\n",
      "Sample 30: Predicted class label: ✅ Customer will STAY\n",
      "Sample 31: Predicted class label: ✅ Customer will STAY\n",
      "Sample 32: Predicted class label: ✅ Customer will STAY\n",
      "Sample 33: Predicted class label: ✅ Customer will STAY\n",
      "Sample 34: Predicted class label: ✅ Customer will STAY\n",
      "Sample 35: Predicted class label: ⚠️ Customer will CHURN\n",
      "Sample 36: Predicted class label: ✅ Customer will STAY\n",
      "Sample 37: Predicted class label: ✅ Customer will STAY\n",
      "Sample 38: Predicted class label: ✅ Customer will STAY\n",
      "Sample 39: Predicted class label: ✅ Customer will STAY\n",
      "Sample 40: Predicted class label: ✅ Customer will STAY\n",
      "Sample 41: Predicted class label: ✅ Customer will STAY\n",
      "Sample 42: Predicted class label: ✅ Customer will STAY\n",
      "Sample 43: Predicted class label: ✅ Customer will STAY\n",
      "Sample 44: Predicted class label: ✅ Customer will STAY\n",
      "Sample 45: Predicted class label: ✅ Customer will STAY\n",
      "Sample 46: Predicted class label: ✅ Customer will STAY\n",
      "Sample 47: Predicted class label: ✅ Customer will STAY\n",
      "Sample 48: Predicted class label: ✅ Customer will STAY\n",
      "Sample 49: Predicted class label: ✅ Customer will STAY\n",
      "Sample 50: Predicted class label: ✅ Customer will STAY\n"
     ]
    }
   ],
   "source": [
    "model = RandomForestClassifier()\n",
    "model.fit(X_train, y_train)\n",
    "\n",
    "for i in range(51):\n",
    "    sample = X_test[i].reshape(1, -1)  # Ensure sample is 2D\n",
    "    prediction = model.predict(sample)\n",
    "    print(f\"Sample {i}: Predicted class label:\", \"✅ Customer will STAY\" if prediction[0] == 0 else \"⚠️ Customer will CHURN\")\n"
   ]
  }
 ],
 "metadata": {
  "kernelspec": {
   "display_name": "Python 3",
   "language": "python",
   "name": "python3"
  },
  "language_info": {
   "codemirror_mode": {
    "name": "ipython",
    "version": 3
   },
   "file_extension": ".py",
   "mimetype": "text/x-python",
   "name": "python",
   "nbconvert_exporter": "python",
   "pygments_lexer": "ipython3",
   "version": "3.13.5"
  }
 },
 "nbformat": 4,
 "nbformat_minor": 5
}
